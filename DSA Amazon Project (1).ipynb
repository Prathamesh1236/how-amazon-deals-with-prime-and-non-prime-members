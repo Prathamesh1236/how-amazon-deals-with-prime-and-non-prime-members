{
 "cells": [
  {
   "cell_type": "code",
   "execution_count": 2,
   "metadata": {},
   "outputs": [
    {
     "name": "stdout",
     "output_type": "stream",
     "text": [
      "init invoked\n",
      "10\n"
     ]
    }
   ],
   "source": [
    "class Test:\n",
    "    def __init__(self):\n",
    "        print(\"init invoked\")\n",
    "        self.x = 10\n",
    "        \n",
    "    def show(self):\n",
    "        print(self.x)\n",
    "        \n",
    "        \n",
    "ob = Test()\n",
    "ob.show() #Test.show(ob)"
   ]
  },
  {
   "cell_type": "code",
   "execution_count": 25,
   "metadata": {},
   "outputs": [],
   "source": [
    "import random\n",
    "import string"
   ]
  },
  {
   "cell_type": "code",
   "execution_count": 26,
   "metadata": {},
   "outputs": [],
   "source": [
    "def generate_id():\n",
    "    tokens = list(string.ascii_letters + string.digits)\n",
    "    uid = ''\n",
    "    for i in range(6):\n",
    "        uid += random.choice(tokens)\n",
    "    return uid\n",
    "# print(generate_id())"
   ]
  },
  {
   "cell_type": "code",
   "execution_count": 27,
   "metadata": {},
   "outputs": [],
   "source": [
    "# id\n",
    "# name\n",
    "# email\n",
    "# isprime = 0 -> Prime\n",
    "#           1 -> Non Prime\n",
    "class Amazon:\n",
    "    def __init__(self):\n",
    "        self.id = None\n",
    "        self.name = None\n",
    "        self.email = None\n",
    "        self.order_cart = None\n",
    "        self.isprime = 1\n",
    "        \n",
    "    def get_details(self):\n",
    "        self.id = generate_id()\n",
    "        self.name = input('Enter name: ')\n",
    "        self.email = input('Enter email adddress: ')\n",
    "        \n",
    "    def buy_prime(self):\n",
    "        self.isprime = 0\n",
    "        \n",
    "    def buy_items(self):\n",
    "        self.order_cart = [i for i in input('Enter the items names: ').split(\", \")]"
   ]
  },
  {
   "cell_type": "code",
   "execution_count": 28,
   "metadata": {},
   "outputs": [],
   "source": [
    "user_list = []"
   ]
  },
  {
   "cell_type": "code",
   "execution_count": 29,
   "metadata": {},
   "outputs": [],
   "source": [
    "def find_user_pos(new_user):\n",
    "    user_count = len(user_list)\n",
    "    pos = 0\n",
    "    for i in range(user_count):\n",
    "        if user_list[i].isprime <= new_user.isprime:\n",
    "            pos += 1  \n",
    "    return pos\n",
    "           \n",
    "        "
   ]
  },
  {
   "cell_type": "code",
   "execution_count": 30,
   "metadata": {},
   "outputs": [
    {
     "name": "stdout",
     "output_type": "stream",
     "text": [
      "Enter name: Adi\n",
      "Enter email adddress: adi@gmail.com\n",
      "Want to order? y/n: y\n",
      "Enter the items names: bycket\n",
      "Do you want to buy Prime? y/n: n\n",
      "Want to add more user? y/n: y\n",
      "Enter name: Sobha\n",
      "Enter email adddress: sobha@gmail.com\n",
      "Want to order? y/n: y\n",
      "Enter the items names: soap\n",
      "Do you want to buy Prime? y/n: y\n",
      "Want to add more user? y/n: y\n",
      "Enter name: Hema\n",
      "Enter email adddress: hema @gmail.com\n",
      "Want to order? y/n: y\n",
      "Enter the items names: earphone\n",
      "Do you want to buy Prime? y/n: n\n",
      "Want to add more user? y/n: y\n",
      "Enter name: Dev\n",
      "Enter email adddress: dev@gmail.com\n",
      "Want to order? y/n: y\n",
      "Enter the items names: mousepad\n",
      "Do you want to buy Prime? y/n: y\n",
      "Want to add more user? y/n: n\n"
     ]
    }
   ],
   "source": [
    "ch = 'y'\n",
    "while ch == 'y':\n",
    "    new_user = Amazon()\n",
    "    new_user.get_details()\n",
    "    \n",
    "    op = input(\"Want to order? y/n: \")\n",
    "    if op == 'y':\n",
    "        new_user.buy_items()\n",
    "    \n",
    "    op = input('Do you want to buy Prime? y/n: ')\n",
    "    if op == 'y':\n",
    "        new_user.buy_prime()\n",
    "    \n",
    "    pos = find_user_pos(new_user)\n",
    "    user_list.insert(pos, new_user)\n",
    "        \n",
    "    ch = input('Want to add more user? y/n: ')"
   ]
  },
  {
   "cell_type": "code",
   "execution_count": 31,
   "metadata": {},
   "outputs": [
    {
     "name": "stdout",
     "output_type": "stream",
     "text": [
      "[<__main__.Amazon object at 0x054A8E30>, <__main__.Amazon object at 0x05718D30>, <__main__.Amazon object at 0x006AB290>, <__main__.Amazon object at 0x054A8170>]\n"
     ]
    }
   ],
   "source": [
    "print(user_list)"
   ]
  },
  {
   "cell_type": "code",
   "execution_count": 32,
   "metadata": {},
   "outputs": [
    {
     "name": "stdout",
     "output_type": "stream",
     "text": [
      "Sobha 0 ['soap']\n",
      "Dev 0 ['mousepad']\n",
      "Adi 1 ['bycket']\n",
      "Hema 1 ['earphone']\n"
     ]
    }
   ],
   "source": [
    "for i in user_list:\n",
    "    print(i.name, i.isprime, i.order_cart)"
   ]
  },
  {
   "cell_type": "code",
   "execution_count": 11,
   "metadata": {},
   "outputs": [
    {
     "name": "stdout",
     "output_type": "stream",
     "text": [
      "[9, 5, 6, 8, 0, 2]\n",
      "[0, 2, 5, 6, 8, 9]\n"
     ]
    }
   ],
   "source": [
    "li = [9, 5, 6, 8, 0, 2]\n",
    "# li.sort()\n",
    "uli = sorted(li)\n",
    "print(li)\n",
    "print(uli)"
   ]
  },
  {
   "cell_type": "code",
   "execution_count": 13,
   "metadata": {},
   "outputs": [],
   "source": [
    "# user_list = sorted(user_list, key = lambda user: user.isprime)"
   ]
  },
  {
   "cell_type": "code",
   "execution_count": 33,
   "metadata": {},
   "outputs": [
    {
     "name": "stdout",
     "output_type": "stream",
     "text": [
      "Sobha 0\n",
      "Dev 0\n",
      "Adi 1\n",
      "Hema 1\n"
     ]
    }
   ],
   "source": [
    "for i in user_list:\n",
    "    print(i.name, i.isprime)"
   ]
  },
  {
   "cell_type": "code",
   "execution_count": 16,
   "metadata": {},
   "outputs": [
    {
     "name": "stdout",
     "output_type": "stream",
     "text": [
      "20\n"
     ]
    }
   ],
   "source": [
    "# def fun(x):\n",
    "#     return x * 2\n",
    "\n",
    "f = lambda x: x * 2\n",
    "\n",
    "res = f(10)\n",
    "print(res)"
   ]
  },
  {
   "cell_type": "code",
   "execution_count": 34,
   "metadata": {},
   "outputs": [
    {
     "name": "stdout",
     "output_type": "stream",
     "text": [
      "Hi Sobha, your order has been shipped under Prime delivery\n",
      "Hi Dev, your order has been shipped under Prime delivery\n",
      "Hi Adi, your order has been shipped.\n",
      "Hi Hema, your order has been shipped.\n"
     ]
    }
   ],
   "source": [
    "for i in user_list:\n",
    "    if i.isprime == 0:\n",
    "        print(f'Hi {i.name}, your order has been shipped under Prime delivery')\n",
    "    else:\n",
    "        print(f'Hi {i.name}, your order has been shipped.')\n",
    "    \n",
    "#     i.order_cart.clear()"
   ]
  },
  {
   "cell_type": "code",
   "execution_count": null,
   "metadata": {},
   "outputs": [],
   "source": []
  }
 ],
 "metadata": {
  "kernelspec": {
   "display_name": "Python 3",
   "language": "python",
   "name": "python3"
  },
  "language_info": {
   "codemirror_mode": {
    "name": "ipython",
    "version": 3
   },
   "file_extension": ".py",
   "mimetype": "text/x-python",
   "name": "python",
   "nbconvert_exporter": "python",
   "pygments_lexer": "ipython3",
   "version": "3.7.4"
  }
 },
 "nbformat": 4,
 "nbformat_minor": 4
}
